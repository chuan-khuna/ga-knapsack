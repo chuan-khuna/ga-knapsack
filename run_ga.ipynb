{
 "cells": [
  {
   "cell_type": "code",
   "execution_count": 1,
   "metadata": {},
   "outputs": [],
   "source": [
    "import numpy as np\n",
    "import pandas as pd\n",
    "from lib.ga_knapsack import GAknapsack\n",
    "\n",
    "import seaborn as sns\n",
    "import matplotlib.pyplot as plt\n",
    "sns.set_style('whitegrid')\n"
   ]
  },
  {
   "cell_type": "code",
   "execution_count": 2,
   "metadata": {},
   "outputs": [],
   "source": [
    "df = pd.read_csv(\"./data/items.csv\")"
   ]
  },
  {
   "cell_type": "code",
   "execution_count": 12,
   "metadata": {},
   "outputs": [
    {
     "data": {
      "text/plain": [
       "30.0"
      ]
     },
     "execution_count": 12,
     "metadata": {},
     "output_type": "execute_result"
    }
   ],
   "source": [
    "sample_size = 10\n",
    "df = df.sample(sample_size)\n",
    "weights = np.array(df['weight'])\n",
    "values = np.array(df['value'])\n",
    "\n",
    "max_weight = np.sum(weights)//2 + np.random.randint(0, 15)\n",
    "max_weight"
   ]
  },
  {
   "cell_type": "code",
   "execution_count": 13,
   "metadata": {},
   "outputs": [
    {
     "data": {
      "text/plain": [
       "<matplotlib.axes._subplots.AxesSubplot at 0x174daeed760>"
      ]
     },
     "execution_count": 13,
     "metadata": {},
     "output_type": "execute_result"
    },
    {
     "data": {
      "image/png": "[encoded data removed]",
      "text/plain": [
       "<Figure size 800x500 with 1 Axes>"
      ]
     },
     "metadata": {},
     "output_type": "display_data"
    }
   ],
   "source": [
    "fig = plt.figure(figsize=(8, 5), dpi=100)\n",
    "sns.scatterplot(weights, values, s=50)"
   ]
  },
  {
   "cell_type": "code",
   "execution_count": 14,
   "metadata": {},
   "outputs": [],
   "source": [
    "pop_size = 10\n",
    "next_gen_parent = 2\n",
    "best_parent = 1\n",
    "tour_size = 10\n",
    "max_generation = 100\n",
    "\n",
    "ga = GAknapsack(weights, values, max_weight, \n",
    "                population_size=pop_size,\n",
    "                max_generation=max_generation,\n",
    "                nextgen_parent=next_gen_parent,\n",
    "                best_parent=best_parent,\n",
    "                tournament_size=tour_size)"
   ]
  },
  {
   "cell_type": "code",
   "execution_count": 15,
   "metadata": {},
   "outputs": [
    {
     "name": "stdout",
     "output_type": "stream",
     "text": [
      "25\n",
      "50\n",
      "75\n",
      "100\n"
     ]
    }
   ],
   "source": [
    "# ga.run_ga(log=True, output_path=\"./ga_log/\")\n",
    "ga.run_ga()"
   ]
  },
  {
   "cell_type": "code",
   "execution_count": 16,
   "metadata": {},
   "outputs": [
    {
     "data": {
      "text/plain": [
       "array([133.4, 133.4, 133.4, 133.4, 133.4,  -1. , 133.4, 133.4, 133.4,\n",
       "       133.4])"
      ]
     },
     "execution_count": 16,
     "metadata": {},
     "output_type": "execute_result"
    }
   ],
   "source": [
    "ga.fitness"
   ]
  },
  {
   "cell_type": "code",
   "execution_count": 17,
   "metadata": {},
   "outputs": [
    {
     "data": {
      "text/plain": [
       "29.299999999999997"
      ]
     },
     "execution_count": 17,
     "metadata": {},
     "output_type": "execute_result"
    }
   ],
   "source": [
    "np.sum(ga.pop[0]*weights)"
   ]
  },
  {
   "cell_type": "code",
   "execution_count": 18,
   "metadata": {},
   "outputs": [
    {
     "data": {
      "text/plain": [
       "30.0"
      ]
     },
     "execution_count": 18,
     "metadata": {},
     "output_type": "execute_result"
    }
   ],
   "source": [
    "max_weight"
   ]
  },
  {
   "cell_type": "code",
   "execution_count": 19,
   "metadata": {},
   "outputs": [
    {
     "name": "stdout",
     "output_type": "stream",
     "text": [
      "item weight\t [1.7 7.8 8.8 5.5 2.2 1.7 2.3 6.4 2.2 9.5]\n",
      "item value\t [10.6 21.6 26.  16.9 10.3 14.7 16.7 23.8 18.6 32.1]\n",
      "\n",
      "[1. 0. 0. 1. 0. 1. 1. 1. 1. 1.]\n",
      "weight: 29.3/30.0 \t value: 133.4 \t fitness: 133.4\n",
      "\n",
      "[1. 0. 0. 1. 0. 1. 1. 1. 1. 1.]\n",
      "weight: 29.3/30.0 \t value: 133.4 \t fitness: 133.4\n",
      "\n",
      "[1. 0. 0. 1. 0. 1. 1. 1. 1. 1.]\n",
      "weight: 29.3/30.0 \t value: 133.4 \t fitness: 133.4\n",
      "\n",
      "[1. 0. 0. 1. 0. 1. 1. 1. 1. 1.]\n",
      "weight: 29.3/30.0 \t value: 133.4 \t fitness: 133.4\n",
      "\n",
      "[1. 0. 0. 1. 0. 1. 1. 1. 1. 1.]\n",
      "weight: 29.3/30.0 \t value: 133.4 \t fitness: 133.4\n",
      "\n",
      "[1. 0. 0. 1. 1. 1. 1. 1. 1. 1.]\n",
      "weight: 31.5/30.0 \t value: 143.7 \t fitness: -1.0\n",
      "\n",
      "[1. 0. 0. 1. 0. 1. 1. 1. 1. 1.]\n",
      "weight: 29.3/30.0 \t value: 133.4 \t fitness: 133.4\n",
      "\n",
      "[1. 0. 0. 1. 0. 1. 1. 1. 1. 1.]\n",
      "weight: 29.3/30.0 \t value: 133.4 \t fitness: 133.4\n",
      "\n",
      "[1. 0. 0. 1. 0. 1. 1. 1. 1. 1.]\n",
      "weight: 29.3/30.0 \t value: 133.4 \t fitness: 133.4\n",
      "\n",
      "[1. 0. 0. 1. 0. 1. 1. 1. 1. 1.]\n",
      "weight: 29.3/30.0 \t value: 133.4 \t fitness: 133.4\n",
      "\n"
     ]
    }
   ],
   "source": [
    "pop = ga.pop\n",
    "w = np.sum(ga.pop*ga.weights, axis=1)\n",
    "v = np.sum(ga.pop*ga.values, axis=1)\n",
    "fitness = ga.fitness\n",
    "\n",
    "print('item weight\\t', ga.weights)\n",
    "print('item value\\t', ga.values)\n",
    "print()\n",
    "for i in range(len(pop)):\n",
    "    print(pop[i])\n",
    "    print(f\"weight: {w[i]:.1f}/{max_weight:.1f} \\t value: {v[i]:.1f} \\t fitness: {fitness[i]}\\n\")"
   ]
  },
  {
   "cell_type": "code",
   "execution_count": null,
   "metadata": {},
   "outputs": [],
   "source": []
  },
  {
   "cell_type": "code",
   "execution_count": null,
   "metadata": {},
   "outputs": [],
   "source": []
  }
 ],
 "metadata": {
  "kernelspec": {
   "display_name": "Python 3",
   "language": "python",
   "name": "python3"
  },
  "language_info": {
   "codemirror_mode": {
    "name": "ipython",
    "version": 3
   },
   "file_extension": ".py",
   "mimetype": "text/x-python",
   "name": "python",
   "nbconvert_exporter": "python",
   "pygments_lexer": "ipython3",
   "version": "3.8.3"
  }
 },
 "nbformat": 4,
 "nbformat_minor": 4
}
